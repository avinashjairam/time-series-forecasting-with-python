{
  "nbformat": 4,
  "nbformat_minor": 0,
  "metadata": {
    "colab": {
      "provenance": [],
      "authorship_tag": "ABX9TyOGbr9+nmM20VULMLfDDnrr",
      "include_colab_link": true
    },
    "kernelspec": {
      "name": "python3",
      "display_name": "Python 3"
    },
    "language_info": {
      "name": "python"
    }
  },
  "cells": [
    {
      "cell_type": "markdown",
      "metadata": {
        "id": "view-in-github",
        "colab_type": "text"
      },
      "source": [
        "<a href=\"https://colab.research.google.com/github/avinashjairam/time-series-forecasting-with-python/blob/main/Creating_Multiple_Lagged_Features.ipynb\" target=\"_parent\"><img src=\"https://colab.research.google.com/assets/colab-badge.svg\" alt=\"Open In Colab\"/></a>"
      ]
    },
    {
      "cell_type": "code",
      "execution_count": null,
      "metadata": {
        "id": "Q-p225Y27klq"
      },
      "outputs": [],
      "source": [
        "#create a lag feature\n",
        "from pandas import read_csv\n",
        "from pandas import DataFrame\n",
        "from pandas import concat "
      ]
    },
    {
      "cell_type": "code",
      "source": [
        "#reading in data from csv file\n",
        "series = read_csv('https://raw.githubusercontent.com/jbrownlee/Datasets/master/daily-min-temperatures.csv', header=0,index_col=0, parse_dates=True, squeeze=True)"
      ],
      "metadata": {
        "colab": {
          "base_uri": "https://localhost:8080/"
        },
        "id": "PxHAdfwr7xP9",
        "outputId": "d2838427-7ea3-4846-c119-52a6716d9efa"
      },
      "execution_count": null,
      "outputs": [
        {
          "output_type": "stream",
          "name": "stderr",
          "text": [
            "<ipython-input-2-cbcef4144623>:2: FutureWarning: The squeeze argument has been deprecated and will be removed in a future version. Append .squeeze(\"columns\") to the call to squeeze.\n",
            "\n",
            "\n",
            "  series = read_csv('https://raw.githubusercontent.com/jbrownlee/Datasets/master/daily-min-temperatures.csv', header=0,index_col=0, parse_dates=True, squeeze=True)\n"
          ]
        }
      ]
    },
    {
      "cell_type": "code",
      "source": [
        "#t+1\n",
        "temps = DataFrame(series.values )"
      ],
      "metadata": {
        "id": "xeg9TZ1g8BYE"
      },
      "execution_count": null,
      "outputs": []
    },
    {
      "cell_type": "code",
      "source": [
        "#creating a new dataframe  modified to include the last 3 observed\n",
        "#values to predict the value at the next time step.\n",
        "df = concat([temps.shift(3), temps.shift(2), temps.shift(1), temps], axis = 1)"
      ],
      "metadata": {
        "id": "A3RdhK8J8Gj7"
      },
      "execution_count": null,
      "outputs": []
    },
    {
      "cell_type": "code",
      "source": [
        "#setting the column headers\n",
        "df.columns = ['t-2','t-1','t', 't+1']"
      ],
      "metadata": {
        "id": "dz5-6JYL8WN3"
      },
      "execution_count": null,
      "outputs": []
    },
    {
      "cell_type": "code",
      "source": [
        "#taking a peek at the shifted dataset: output of lag=1 features\n",
        "print(df.head(5))"
      ],
      "metadata": {
        "colab": {
          "base_uri": "https://localhost:8080/"
        },
        "id": "IirbgXbX8Z2W",
        "outputId": "a994e7d6-14a8-4bf3-e677-d94b0b129381"
      },
      "execution_count": null,
      "outputs": [
        {
          "output_type": "stream",
          "name": "stdout",
          "text": [
            "    t-2   t-1     t   t+1\n",
            "0   NaN   NaN   NaN  20.7\n",
            "1   NaN   NaN  20.7  17.9\n",
            "2   NaN  20.7  17.9  18.8\n",
            "3  20.7  17.9  18.8  14.6\n",
            "4  17.9  18.8  14.6  15.8\n"
          ]
        }
      ]
    },
    {
      "cell_type": "code",
      "source": [],
      "metadata": {
        "id": "1kY03SA6-z6K"
      },
      "execution_count": null,
      "outputs": []
    }
  ]
}