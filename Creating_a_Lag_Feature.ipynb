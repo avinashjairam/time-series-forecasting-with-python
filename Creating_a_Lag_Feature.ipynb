{
  "nbformat": 4,
  "nbformat_minor": 0,
  "metadata": {
    "colab": {
      "provenance": [],
      "authorship_tag": "ABX9TyNaBnEklPfK0/4wicC2NnzD",
      "include_colab_link": true
    },
    "kernelspec": {
      "name": "python3",
      "display_name": "Python 3"
    },
    "language_info": {
      "name": "python"
    }
  },
  "cells": [
    {
      "cell_type": "markdown",
      "metadata": {
        "id": "view-in-github",
        "colab_type": "text"
      },
      "source": [
        "<a href=\"https://colab.research.google.com/github/avinashjairam/time-series-forecasting-with-python/blob/main/Creating_a_Lag_Feature.ipynb\" target=\"_parent\"><img src=\"https://colab.research.google.com/assets/colab-badge.svg\" alt=\"Open In Colab\"/></a>"
      ]
    },
    {
      "cell_type": "code",
      "execution_count": 7,
      "metadata": {
        "id": "Q-p225Y27klq"
      },
      "outputs": [],
      "source": [
        "#create a lag feature\n",
        "from pandas import read_csv\n",
        "from pandas import DataFrame\n",
        "from pandas import concat "
      ]
    },
    {
      "cell_type": "code",
      "source": [
        "#reading in data from csv file\n",
        "series = read_csv('https://raw.githubusercontent.com/jbrownlee/Datasets/master/daily-min-temperatures.csv', header=0,index_col=0, parse_dates=True, squeeze=True)"
      ],
      "metadata": {
        "colab": {
          "base_uri": "https://localhost:8080/"
        },
        "id": "PxHAdfwr7xP9",
        "outputId": "ba2397a4-f3df-4024-c152-0a197320d274"
      },
      "execution_count": 8,
      "outputs": [
        {
          "output_type": "stream",
          "name": "stderr",
          "text": [
            "<ipython-input-8-cbcef4144623>:2: FutureWarning: The squeeze argument has been deprecated and will be removed in a future version. Append .squeeze(\"columns\") to the call to squeeze.\n",
            "\n",
            "\n",
            "  series = read_csv('https://raw.githubusercontent.com/jbrownlee/Datasets/master/daily-min-temperatures.csv', header=0,index_col=0, parse_dates=True, squeeze=True)\n"
          ]
        }
      ]
    },
    {
      "cell_type": "code",
      "source": [
        "#t+1\n",
        "temps = DataFrame(series.values )"
      ],
      "metadata": {
        "id": "xeg9TZ1g8BYE"
      },
      "execution_count": 9,
      "outputs": []
    },
    {
      "cell_type": "code",
      "source": [
        "#creating a new dataframe with the current timestep and the next one as columns\n",
        "df = concat([temps.shift(1), temps], axis = 1)"
      ],
      "metadata": {
        "id": "A3RdhK8J8Gj7"
      },
      "execution_count": 10,
      "outputs": []
    },
    {
      "cell_type": "code",
      "source": [
        "#setting the column headers\n",
        "df.columns = ['t', 't+1']"
      ],
      "metadata": {
        "id": "dz5-6JYL8WN3"
      },
      "execution_count": 11,
      "outputs": []
    },
    {
      "cell_type": "code",
      "source": [
        "#taking a peek at the shifted dataset: output of lag=1 features\n",
        "print(df.head(5))"
      ],
      "metadata": {
        "colab": {
          "base_uri": "https://localhost:8080/"
        },
        "id": "IirbgXbX8Z2W",
        "outputId": "c7abaa70-22c6-468c-ef4b-7f203fa6666b"
      },
      "execution_count": 12,
      "outputs": [
        {
          "output_type": "stream",
          "name": "stdout",
          "text": [
            "      t   t+1\n",
            "0   NaN  20.7\n",
            "1  20.7  17.9\n",
            "2  17.9  18.8\n",
            "3  18.8  14.6\n",
            "4  14.6  15.8\n"
          ]
        }
      ]
    }
  ]
}