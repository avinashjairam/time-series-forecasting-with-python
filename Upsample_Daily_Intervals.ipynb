{
  "nbformat": 4,
  "nbformat_minor": 0,
  "metadata": {
    "colab": {
      "provenance": []
    },
    "kernelspec": {
      "name": "python3",
      "display_name": "Python 3"
    },
    "language_info": {
      "name": "python"
    }
  },
  "cells": [
    {
      "cell_type": "code",
      "execution_count": 1,
      "metadata": {
        "colab": {
          "base_uri": "https://localhost:8080/"
        },
        "id": "OOzGBjjTYjrL",
        "outputId": "bc1f7660-bff8-4b93-ed2f-884f1eaf9e74"
      },
      "outputs": [
        {
          "output_type": "stream",
          "name": "stderr",
          "text": [
            "<ipython-input-1-905a7ea93742>:3: FutureWarning: The pandas.datetime class is deprecated and will be removed from pandas in a future version. Import from datetime module instead.\n",
            "  from pandas import datetime\n"
          ]
        }
      ],
      "source": [
        "#upsample to daily intervals\n",
        "from pandas import read_csv\n",
        "from pandas import datetime"
      ]
    },
    {
      "cell_type": "code",
      "source": [
        "#function to parse date\n",
        "def parser(x):\n",
        "  return datetime.strptime('190' + x, '%Y-%m')"
      ],
      "metadata": {
        "id": "x2rpgg0GYxzl"
      },
      "execution_count": 3,
      "outputs": []
    },
    {
      "cell_type": "code",
      "source": [
        "#reading in the data\n",
        "series = read_csv('https://raw.githubusercontent.com/jbrownlee/Datasets/master/shampoo.csv', header=0, index_col=0,parse_dates=True,squeeze=True, date_parser=parser)\n",
        "\n",
        "#Sample the data by day\n",
        "unsample = series.resample('D').mean()\n",
        "\n",
        "#printing the first month and 1 day\n",
        "print(unsample.head(32))"
      ],
      "metadata": {
        "colab": {
          "base_uri": "https://localhost:8080/"
        },
        "id": "Yg3r0bo1Y9Ss",
        "outputId": "b3610bfa-c270-4a36-aa7e-489faee84a91"
      },
      "execution_count": 4,
      "outputs": [
        {
          "output_type": "stream",
          "name": "stderr",
          "text": [
            "<ipython-input-4-d85064b0275f>:2: FutureWarning: The squeeze argument has been deprecated and will be removed in a future version. Append .squeeze(\"columns\") to the call to squeeze.\n",
            "\n",
            "\n",
            "  series = read_csv('https://raw.githubusercontent.com/jbrownlee/Datasets/master/shampoo.csv', header=0, index_col=0,parse_dates=True,squeeze=True, date_parser=parser)\n"
          ]
        },
        {
          "output_type": "stream",
          "name": "stdout",
          "text": [
            "Month\n",
            "1901-01-01    266.0\n",
            "1901-01-02      NaN\n",
            "1901-01-03      NaN\n",
            "1901-01-04      NaN\n",
            "1901-01-05      NaN\n",
            "1901-01-06      NaN\n",
            "1901-01-07      NaN\n",
            "1901-01-08      NaN\n",
            "1901-01-09      NaN\n",
            "1901-01-10      NaN\n",
            "1901-01-11      NaN\n",
            "1901-01-12      NaN\n",
            "1901-01-13      NaN\n",
            "1901-01-14      NaN\n",
            "1901-01-15      NaN\n",
            "1901-01-16      NaN\n",
            "1901-01-17      NaN\n",
            "1901-01-18      NaN\n",
            "1901-01-19      NaN\n",
            "1901-01-20      NaN\n",
            "1901-01-21      NaN\n",
            "1901-01-22      NaN\n",
            "1901-01-23      NaN\n",
            "1901-01-24      NaN\n",
            "1901-01-25      NaN\n",
            "1901-01-26      NaN\n",
            "1901-01-27      NaN\n",
            "1901-01-28      NaN\n",
            "1901-01-29      NaN\n",
            "1901-01-30      NaN\n",
            "1901-01-31      NaN\n",
            "1901-02-01    145.9\n",
            "Freq: D, Name: Sales, dtype: float64\n"
          ]
        }
      ]
    },
    {
      "cell_type": "code",
      "source": [],
      "metadata": {
        "id": "-v4HSytmaMH4"
      },
      "execution_count": null,
      "outputs": []
    }
  ]
}