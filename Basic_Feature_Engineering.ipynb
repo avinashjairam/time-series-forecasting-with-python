{
  "nbformat": 4,
  "nbformat_minor": 0,
  "metadata": {
    "colab": {
      "provenance": []
    },
    "kernelspec": {
      "name": "python3",
      "display_name": "Python 3"
    },
    "language_info": {
      "name": "python"
    }
  },
  "cells": [
    {
      "cell_type": "code",
      "execution_count": 1,
      "metadata": {
        "id": "lqEAKN2vyNV6"
      },
      "outputs": [],
      "source": [
        "#create date time features of a dataset "
      ]
    },
    {
      "cell_type": "code",
      "source": [
        "#importing libraries\n",
        "from pandas import read_csv \n",
        "from pandas import DataFrame"
      ],
      "metadata": {
        "id": "UFVjRqho3O9F"
      },
      "execution_count": 2,
      "outputs": []
    },
    {
      "cell_type": "code",
      "source": [
        "#reading in data \n",
        "series = read_csv('https://raw.githubusercontent.com/jbrownlee/Datasets/master/daily-min-temperatures.csv', header=0,index_col=0, parse_dates=True, squeeze=True)"
      ],
      "metadata": {
        "colab": {
          "base_uri": "https://localhost:8080/"
        },
        "id": "2jEjEArO3TI_",
        "outputId": "79009ef4-924e-434c-c221-dda28ff37f46"
      },
      "execution_count": 3,
      "outputs": [
        {
          "output_type": "stream",
          "name": "stderr",
          "text": [
            "<ipython-input-3-7d1f2f7e2579>:1: FutureWarning: The squeeze argument has been deprecated and will be removed in a future version. Append .squeeze(\"columns\") to the call to squeeze.\n",
            "\n",
            "\n",
            "  series = read_csv('https://raw.githubusercontent.com/jbrownlee/Datasets/master/daily-min-temperatures.csv', header=0,index_col=0, parse_dates=True, squeeze=True)\n"
          ]
        }
      ]
    },
    {
      "cell_type": "code",
      "source": [
        "#creating the date and time features of a dataset \n",
        "df = DataFrame()\n",
        "df['month'] = [series.index[i].month for i in range(len(series))]\n",
        "df['day'] = [series.index[i].day for i in range(len(series))]\n",
        "df['temperature'] = [series.index[i] for i in range(len(series))]"
      ],
      "metadata": {
        "id": "CAvPHLlG3dzJ"
      },
      "execution_count": 10,
      "outputs": []
    },
    {
      "cell_type": "code",
      "source": [
        "#taking a peek of the new features\n",
        "print(df.head(5))"
      ],
      "metadata": {
        "colab": {
          "base_uri": "https://localhost:8080/"
        },
        "id": "Fmb5COmN32bp",
        "outputId": "478e4c83-d404-45fd-e6fe-8f765f0bd0b1"
      },
      "execution_count": 12,
      "outputs": [
        {
          "output_type": "stream",
          "name": "stdout",
          "text": [
            "   month  day temperature\n",
            "0      1    1  1981-01-01\n",
            "1      1    2  1981-01-02\n",
            "2      1    3  1981-01-03\n",
            "3      1    4  1981-01-04\n",
            "4      1    5  1981-01-05\n"
          ]
        }
      ]
    },
    {
      "cell_type": "code",
      "source": [],
      "metadata": {
        "id": "aFbWe2IP379u"
      },
      "execution_count": null,
      "outputs": []
    }
  ]
}